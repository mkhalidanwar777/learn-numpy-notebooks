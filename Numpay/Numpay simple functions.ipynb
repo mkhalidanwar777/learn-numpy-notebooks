{
 "cells": [
  {
   "cell_type": "markdown",
   "id": "5444cb12-da74-4c9f-921a-7bfc904bfd34",
   "metadata": {},
   "source": [
    "# How to creat Numpay or n-d Array"
   ]
  },
  {
   "cell_type": "markdown",
   "id": "5f9b61dc-c878-4e96-a274-d3b9ef0e3302",
   "metadata": {},
   "source": [
    "## 1st import numpay as np \n",
    "## np.array()\n",
    "### example"
   ]
  },
  {
   "cell_type": "code",
   "execution_count": 6,
   "id": "96729fa3-3bb0-464d-b2a1-823ba9b27424",
   "metadata": {},
   "outputs": [
    {
     "name": "stdout",
     "output_type": "stream",
     "text": [
      "[1 2 3 4 5]\n"
     ]
    }
   ],
   "source": [
    "import numpy as np\n",
    "\n",
    "arr1= np.array([1,2,3,4,5])\n",
    "print(arr1)\n"
   ]
  },
  {
   "cell_type": "markdown",
   "id": "8c0b00ab-fdae-40dd-bdee-7f694d028adb",
   "metadata": {},
   "source": [
    "## two row matrix "
   ]
  },
  {
   "cell_type": "code",
   "execution_count": 7,
   "id": "48fc48dc-6eaf-427c-b4bc-902698208e9a",
   "metadata": {},
   "outputs": [
    {
     "name": "stdout",
     "output_type": "stream",
     "text": [
      "[[1 2 3]\n",
      " [4 5 6]]\n"
     ]
    }
   ],
   "source": [
    "import numpy as np\n",
    "\n",
    "arr2=np.array([[1,2,3],[4,5,6]])\n",
    "\n",
    "print(arr2)"
   ]
  },
  {
   "cell_type": "markdown",
   "id": "d0850ceb-1e7c-440d-849f-2f2531412cd3",
   "metadata": {},
   "source": [
    "## zero matrix"
   ]
  },
  {
   "cell_type": "code",
   "execution_count": 8,
   "id": "0c8ea107-0f2a-4a30-9546-12a26e17c226",
   "metadata": {},
   "outputs": [
    {
     "name": "stdout",
     "output_type": "stream",
     "text": [
      "[[0. 0. 0.]\n",
      " [0. 0. 0.]]\n"
     ]
    }
   ],
   "source": [
    "import numpy as np\n",
    "\n",
    "arr3=np.zeros((2,3))\n",
    "\n",
    "print(arr3)"
   ]
  },
  {
   "cell_type": "markdown",
   "id": "a16bf0aa-ea7e-4159-81fe-5aaded0de45f",
   "metadata": {},
   "source": [
    "## ones matrix"
   ]
  },
  {
   "cell_type": "code",
   "execution_count": 9,
   "id": "a501594b-ecd2-47cb-aa32-bca9f3518b4f",
   "metadata": {},
   "outputs": [
    {
     "name": "stdout",
     "output_type": "stream",
     "text": [
      "[[1. 1. 1.]\n",
      " [1. 1. 1.]]\n"
     ]
    }
   ],
   "source": [
    "import numpy as np\n",
    "\n",
    "arr3=np.ones((2,3))\n",
    "\n",
    "print(arr3)"
   ]
  },
  {
   "cell_type": "markdown",
   "id": "053447df-9969-4c07-a007-4f25a2a79152",
   "metadata": {},
   "source": [
    "## identity matrix"
   ]
  },
  {
   "cell_type": "code",
   "execution_count": 10,
   "id": "20e31b0c-8dfc-4546-900f-ef04de6de7eb",
   "metadata": {},
   "outputs": [
    {
     "name": "stdout",
     "output_type": "stream",
     "text": [
      "[[1. 0. 0. 0. 0.]\n",
      " [0. 1. 0. 0. 0.]\n",
      " [0. 0. 1. 0. 0.]\n",
      " [0. 0. 0. 1. 0.]\n",
      " [0. 0. 0. 0. 1.]]\n"
     ]
    }
   ],
   "source": [
    "import numpy as np\n",
    "\n",
    "arr3=np.identity(5)\n",
    "\n",
    "print(arr3)"
   ]
  },
  {
   "cell_type": "markdown",
   "id": "e84e9b01-71e6-43fc-a152-a657848085c2",
   "metadata": {},
   "source": [
    "## arange like for loop range \n",
    "### examples \n",
    "### 1st 0 to 10 number print\n",
    "### 2nd 5 to 15 number print\n",
    "### 3rd 5 to 15 but skip 1 number"
   ]
  },
  {
   "cell_type": "code",
   "execution_count": 11,
   "id": "594beeb9-dc36-4989-9710-5ea852023877",
   "metadata": {},
   "outputs": [
    {
     "name": "stdout",
     "output_type": "stream",
     "text": [
      "[ 0  1  2  3  4  5  6  7  8  9 10]\n",
      "[ 5  6  7  8  9 10 11 12 13 14 15]\n",
      "[ 5  7  9 11 13 15]\n"
     ]
    }
   ],
   "source": [
    "import numpy as np\n",
    "\n",
    "arr3=np.arange(11)\n",
    "arr4=np.arange(5,16)\n",
    "arr5=np.arange(5,16,2)\n",
    "\n",
    "\n",
    "print(arr3)\n",
    "print(arr4)\n",
    "print(arr5)"
   ]
  },
  {
   "cell_type": "markdown",
   "id": "0916daf3-eb28-4a83-9472-66ae34a0b614",
   "metadata": {},
   "source": [
    "## linspace"
   ]
  },
  {
   "cell_type": "code",
   "execution_count": 12,
   "id": "1c1eecf6-2f86-4c01-bdca-f8031ab745ea",
   "metadata": {},
   "outputs": [
    {
     "name": "stdout",
     "output_type": "stream",
     "text": [
      "[10.         11.11111111 12.22222222 13.33333333 14.44444444 15.55555556\n",
      " 16.66666667 17.77777778 18.88888889 20.        ]\n"
     ]
    }
   ],
   "source": [
    "import numpy as np\n",
    "\n",
    "arr5=np.linspace(10,20,10)\n",
    "\n",
    "print(arr5)"
   ]
  },
  {
   "cell_type": "markdown",
   "id": "8c686cf7-a27c-4a17-9529-336758ed915f",
   "metadata": {},
   "source": [
    "## copy()"
   ]
  },
  {
   "cell_type": "code",
   "execution_count": 13,
   "id": "a930f727-05bf-4647-a23b-76c96d58984b",
   "metadata": {},
   "outputs": [
    {
     "name": "stdout",
     "output_type": "stream",
     "text": [
      "[1 2 3 4]\n"
     ]
    }
   ],
   "source": [
    "import numpy as np\n",
    "\n",
    "arr5=np.array([1,2,3,4])\n",
    "\n",
    "arr6=arr5.copy()\n",
    "print(arr6)"
   ]
  },
  {
   "cell_type": "markdown",
   "id": "68168fa3-fbf6-457c-88e4-3f24a7df1b99",
   "metadata": {},
   "source": [
    "# Properties and Attributes\n",
    "## shape :\n",
    "###        show number of row and columes in array"
   ]
  },
  {
   "cell_type": "code",
   "execution_count": 14,
   "id": "ade7af32-2b3e-4f07-8305-461058d1ce23",
   "metadata": {},
   "outputs": [
    {
     "name": "stdout",
     "output_type": "stream",
     "text": [
      "(2, 4)\n"
     ]
    }
   ],
   "source": [
    "import numpy as np\n",
    "\n",
    "arr5=np.array([[1,2,3,4],[6,7,8,9]])\n",
    "\n",
    "\n",
    "print(arr5.shape)"
   ]
  },
  {
   "cell_type": "markdown",
   "id": "63668b19-9868-4cae-91fd-c71e4f46d578",
   "metadata": {},
   "source": [
    "### 2nd example two matrix same like both have same rows and colume "
   ]
  },
  {
   "cell_type": "code",
   "execution_count": 15,
   "id": "4e25874b-5634-4f03-abdc-e2f42cb010bd",
   "metadata": {},
   "outputs": [
    {
     "name": "stdout",
     "output_type": "stream",
     "text": [
      "[[[1 2]\n",
      "  [3 4]]\n",
      "\n",
      " [[5 6]\n",
      "  [7 8]]]\n",
      " now shape of this matrix \n",
      "(2, 2, 2)\n"
     ]
    }
   ],
   "source": [
    "import numpy as np\n",
    "\n",
    "arr5=np.array([[[1,2],[3,4]],[[5,6],[7,8]]])\n",
    "\n",
    "print (arr5)\n",
    "\n",
    "print(\" now shape of this matrix \")\n",
    "print(arr5.shape)"
   ]
  },
  {
   "cell_type": "markdown",
   "id": "303859d4-9298-427d-b4b5-d41aea35fb92",
   "metadata": {},
   "source": [
    "## ndim \n",
    "### number of dimension\n",
    "###\n",
    "###\n",
    "### 1st single dimension array"
   ]
  },
  {
   "cell_type": "code",
   "execution_count": 16,
   "id": "88ac2970-0763-4172-88d5-1f10aceccf3b",
   "metadata": {},
   "outputs": [
    {
     "name": "stdout",
     "output_type": "stream",
     "text": [
      "1\n"
     ]
    }
   ],
   "source": [
    "import numpy as np\n",
    "\n",
    "arr5=np.array([1,2,3,4])\n",
    "\n",
    "\n",
    "print(arr5.ndim)"
   ]
  },
  {
   "cell_type": "markdown",
   "id": "fcc91cd9-5c58-475a-959d-7957920d2c52",
   "metadata": {},
   "source": [
    "### 2nd two dimension array\n"
   ]
  },
  {
   "cell_type": "code",
   "execution_count": 17,
   "id": "318a20e8-3fe1-47b1-b32c-1d7afad24c55",
   "metadata": {},
   "outputs": [
    {
     "name": "stdout",
     "output_type": "stream",
     "text": [
      "2\n"
     ]
    }
   ],
   "source": [
    "import numpy as np\n",
    "\n",
    "arr5=np.array([[1,2,3,4],[6,7,8,9]])\n",
    "\n",
    "\n",
    "print(arr5.ndim)"
   ]
  },
  {
   "cell_type": "markdown",
   "id": "6fac408d-5636-4641-989b-a809b6d5a78d",
   "metadata": {},
   "source": [
    "### 3rd three dimension array"
   ]
  },
  {
   "cell_type": "code",
   "execution_count": 18,
   "id": "fd1b8a3e-0013-4530-aa83-cb02692331be",
   "metadata": {},
   "outputs": [
    {
     "name": "stdout",
     "output_type": "stream",
     "text": [
      "3\n"
     ]
    }
   ],
   "source": [
    "import numpy as np\n",
    "\n",
    "arr5=np.array([[[1,2],[3,4]],[[1,2],[2,3]]])\n",
    "\n",
    "\n",
    "print(arr5.ndim)"
   ]
  },
  {
   "cell_type": "markdown",
   "id": "b0366687-176f-4c7f-a14c-c93fc79ab381",
   "metadata": {},
   "source": [
    "## size :\n",
    "### number of item in array"
   ]
  },
  {
   "cell_type": "code",
   "execution_count": 19,
   "id": "a212186f-6b5b-48c4-b8a4-b14218592369",
   "metadata": {},
   "outputs": [
    {
     "name": "stdout",
     "output_type": "stream",
     "text": [
      "8\n"
     ]
    }
   ],
   "source": [
    "import numpy as np\n",
    "\n",
    "arr5=np.array([[[1,2],[3,4]],[[1,2],[2,3]]])\n",
    "\n",
    "\n",
    "print(arr5.size)"
   ]
  },
  {
   "cell_type": "markdown",
   "id": "c66477d0-e9f9-4bfa-87e2-83fc75ebb2fe",
   "metadata": {},
   "source": [
    "## dtype :\n",
    "### value data type show "
   ]
  },
  {
   "cell_type": "code",
   "execution_count": 20,
   "id": "746d2a60-ea43-4125-a41e-6f995aae5a6b",
   "metadata": {},
   "outputs": [
    {
     "name": "stdout",
     "output_type": "stream",
     "text": [
      "int32\n"
     ]
    }
   ],
   "source": [
    "import numpy as np\n",
    "\n",
    "arr5=np.array([[[1,2],[3,4]],[[1,2],[2,3]]])\n",
    "\n",
    "\n",
    "print(arr5.dtype)"
   ]
  },
  {
   "cell_type": "markdown",
   "id": "a9c9f046-cc9f-450f-86ef-86de5b226afe",
   "metadata": {},
   "source": [
    "## astype :\n",
    "### change the data type like float to int "
   ]
  },
  {
   "cell_type": "code",
   "execution_count": 21,
   "id": "7ef0ed4b-4831-4bbe-b341-df0210fc21dc",
   "metadata": {},
   "outputs": [
    {
     "name": "stdout",
     "output_type": "stream",
     "text": [
      "[[[1. 2.]\n",
      "  [3. 4.]]\n",
      "\n",
      " [[1. 2.]\n",
      "  [2. 3.]]]\n",
      "now check the data type \n",
      "int32\n"
     ]
    }
   ],
   "source": [
    "import numpy as np\n",
    "\n",
    "arr5=np.array([[[1,2],[3,4]],[[1,2],[2,3]]])\n",
    "\n",
    "\n",
    "print(arr5.astype('float'))\n",
    "\n",
    "print('now check the data type ')\n",
    "print(arr5.dtype)"
   ]
  },
  {
   "cell_type": "markdown",
   "id": "1fd5f282-7ec6-4aaa-af82-84af970e3169",
   "metadata": {},
   "source": [
    "# Random"
   ]
  },
  {
   "cell_type": "markdown",
   "id": "fa999bf3-1a23-4a6f-8228-301921c38694",
   "metadata": {},
   "source": [
    "## random.random() :\n",
    "### every time give new value "
   ]
  },
  {
   "cell_type": "code",
   "execution_count": 22,
   "id": "9e96288a-55ac-4ce1-903b-ec9de61908b1",
   "metadata": {},
   "outputs": [
    {
     "name": "stdout",
     "output_type": "stream",
     "text": [
      "0.5492905151900408\n"
     ]
    }
   ],
   "source": [
    "import numpy as np\n",
    "\n",
    "print(np.random.random())"
   ]
  },
  {
   "cell_type": "markdown",
   "id": "a6f7d562-c11e-4704-8206-140d5a2e9e98",
   "metadata": {},
   "source": [
    "## random.seed() :\n",
    "### constant value "
   ]
  },
  {
   "cell_type": "code",
   "execution_count": 23,
   "id": "e4d1d624-b370-4431-8a11-8f9ffff8ce9b",
   "metadata": {},
   "outputs": [
    {
     "name": "stdout",
     "output_type": "stream",
     "text": [
      "0.417022004702574\n"
     ]
    }
   ],
   "source": [
    "import numpy as np\n",
    "\n",
    "np.random.seed(1)\n",
    "print(np.random.random())"
   ]
  },
  {
   "cell_type": "markdown",
   "id": "a93ea6a6-6248-491b-b289-85b80c02ddbf",
   "metadata": {},
   "source": [
    "## uniform() :\n",
    "#\n",
    "### i. uniform( , )"
   ]
  },
  {
   "cell_type": "code",
   "execution_count": 24,
   "id": "619a302a-6ce5-4dd4-83fa-60bb5a10b6ee",
   "metadata": {},
   "outputs": [
    {
     "name": "stdout",
     "output_type": "stream",
     "text": [
      "72.31212485077366\n"
     ]
    }
   ],
   "source": [
    "import numpy as np\n",
    "\n",
    "print(np.random.uniform(1,100))"
   ]
  },
  {
   "cell_type": "markdown",
   "id": "e01c07f8-362a-43ba-af70-f71fec88fab6",
   "metadata": {},
   "source": [
    "### ii. uniform( , , )"
   ]
  },
  {
   "cell_type": "code",
   "execution_count": 25,
   "id": "8327419f-b96d-475b-8de5-0c64b293719c",
   "metadata": {},
   "outputs": [
    {
     "name": "stdout",
     "output_type": "stream",
     "text": [
      "[ 1.01132311 30.93092469 15.52883319 10.14152088 19.43976093 35.21051198\n",
      " 40.27997995 54.34285667 42.50025693 68.83673054 21.24077272 87.9336262\n",
      "  3.71137173 67.37628351 42.31317543 56.31029302 14.89830692 20.61204742\n",
      " 80.2737123  96.857896  ]\n"
     ]
    }
   ],
   "source": [
    "import numpy as np\n",
    "\n",
    "print(np.random.uniform(1,100,20))"
   ]
  },
  {
   "cell_type": "markdown",
   "id": "d1be0994-1652-4753-900c-40338995d829",
   "metadata": {},
   "source": [
    "## Random.randint ( , ) or  ( , , )"
   ]
  },
  {
   "cell_type": "code",
   "execution_count": 26,
   "id": "ed087f5d-5126-48b0-bcbd-604f2fdf738f",
   "metadata": {},
   "outputs": [
    {
     "name": "stdout",
     "output_type": "stream",
     "text": [
      "64\n",
      "\n",
      "[62 23 58  2  1 61 82  9 89 14 48 73 31 72  4 71 22 50 58  4]\n"
     ]
    }
   ],
   "source": [
    "import numpy as np\n",
    "print(np.random.randint(1,100))\n",
    "print()\n",
    "print(np.random.randint(1,100,20))"
   ]
  },
  {
   "cell_type": "markdown",
   "id": "23f63fbf-ebb7-4684-8a83-80d0860157ea",
   "metadata": {},
   "source": [
    "## argmin()"
   ]
  },
  {
   "cell_type": "code",
   "execution_count": 29,
   "id": "deaace12-7f05-4dd7-b9b9-27d97ebd8d71",
   "metadata": {},
   "outputs": [
    {
     "name": "stdout",
     "output_type": "stream",
     "text": [
      "[2 5 1 6 9 3 4]\n",
      "\n",
      "2\n"
     ]
    }
   ],
   "source": [
    "import numpy as np\n",
    "\n",
    "a=np.array([2,5,1,6,9,3,4])\n",
    "print(a)\n",
    "print()\n",
    "print(np.argmin(a))\n"
   ]
  },
  {
   "cell_type": "markdown",
   "id": "85255685-4c51-4e6b-97dc-11a9ed1368eb",
   "metadata": {},
   "source": [
    "## argmax()"
   ]
  },
  {
   "cell_type": "code",
   "execution_count": 28,
   "id": "56afc8e9-e895-4079-bcdc-4eb9a4bd3317",
   "metadata": {},
   "outputs": [
    {
     "name": "stdout",
     "output_type": "stream",
     "text": [
      "[2 5 1 6 9 3 4 8]\n",
      "\n",
      "4\n"
     ]
    }
   ],
   "source": [
    "import numpy as np\n",
    "\n",
    "a=np.array([2,5,1,6,9,3,4,8])\n",
    "print(a)\n",
    "print()\n",
    "print(np.argmax(a))\n"
   ]
  },
  {
   "cell_type": "markdown",
   "id": "bde14234-0b86-45ee-b0b9-3cf7f1da0b25",
   "metadata": {},
   "source": [
    "## where( condition , Ture , fasle )\n",
    "### it is use for not changes in real matrix\n",
    "#\n",
    "### with out where ()"
   ]
  },
  {
   "cell_type": "code",
   "execution_count": 30,
   "id": "380780d8-6151-49c5-b911-4e9e5acedc1a",
   "metadata": {},
   "outputs": [
    {
     "name": "stdout",
     "output_type": "stream",
     "text": [
      "[2 5 1 6 9 3 4]\n",
      "[ 2 -1 -1  6 -1 -1  4]\n"
     ]
    }
   ],
   "source": [
    "import numpy as np\n",
    "\n",
    "a=np.array([2,5,1,6,9,3,4])\n",
    "print(a)\n",
    "a[a%2==1]=-1\n",
    "\n",
    "print(a)\n"
   ]
  },
  {
   "cell_type": "markdown",
   "id": "640797f7-3128-44e4-9b17-f4768b2d1206",
   "metadata": {},
   "source": [
    "## now where ()"
   ]
  },
  {
   "cell_type": "code",
   "execution_count": 31,
   "id": "39a3484c-fad4-4b3e-9b76-253f0c265af9",
   "metadata": {},
   "outputs": [
    {
     "name": "stdout",
     "output_type": "stream",
     "text": [
      "[2 5 1 6 9 3 4]\n",
      "[ 2 -1 -1  6 -1 -1  4]\n",
      "\n",
      "[2 5 1 6 9 3 4]\n"
     ]
    }
   ],
   "source": [
    "import numpy as np\n",
    "\n",
    "a=np.array([2,5,1,6,9,3,4])\n",
    "print(a)\n",
    "print(np.where(a%2==1 , -1,a))\n",
    "print()\n",
    "\n",
    "print(a)\n"
   ]
  },
  {
   "cell_type": "markdown",
   "id": "8ac4d429-5c1f-4eb0-a7f8-4dcc7c65410f",
   "metadata": {},
   "source": [
    "## sorting"
   ]
  },
  {
   "cell_type": "code",
   "execution_count": 32,
   "id": "083e302c-f399-4d2a-a5d4-fe6de2cd88eb",
   "metadata": {},
   "outputs": [
    {
     "name": "stdout",
     "output_type": "stream",
     "text": [
      "[14 34 22 36 26 28 25 10 14 35]\n",
      "\n",
      "[10 14 14 22 25 26 28 34 35 36]\n"
     ]
    }
   ],
   "source": [
    "import numpy as np\n",
    "\n",
    "a=np.random.randint(10,50,10)\n",
    "print(a)\n",
    "print()\n",
    "print(np.sort(a))"
   ]
  },
  {
   "cell_type": "code",
   "execution_count": null,
   "id": "26eca6df-01f5-49a1-b5db-4ab5fe9fb36b",
   "metadata": {},
   "outputs": [],
   "source": []
  }
 ],
 "metadata": {
  "kernelspec": {
   "display_name": "Python 3 (ipykernel)",
   "language": "python",
   "name": "python3"
  },
  "language_info": {
   "codemirror_mode": {
    "name": "ipython",
    "version": 3
   },
   "file_extension": ".py",
   "mimetype": "text/x-python",
   "name": "python",
   "nbconvert_exporter": "python",
   "pygments_lexer": "ipython3",
   "version": "3.12.7"
  }
 },
 "nbformat": 4,
 "nbformat_minor": 5
}
