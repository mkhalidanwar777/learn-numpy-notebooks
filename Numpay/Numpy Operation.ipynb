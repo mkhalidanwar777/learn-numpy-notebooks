{
 "cells": [
  {
   "cell_type": "markdown",
   "id": "a24036c5-c26d-4281-bf4d-033c9101970f",
   "metadata": {},
   "source": [
    "# Numpy Operation"
   ]
  },
  {
   "cell_type": "markdown",
   "id": "5a582a39-70df-4f2f-a07f-a6d3feadd4f4",
   "metadata": {},
   "source": [
    "## Addition"
   ]
  },
  {
   "cell_type": "code",
   "execution_count": 1,
   "id": "edd932e3-86f5-42b1-bf9a-a1f9ca2d3866",
   "metadata": {},
   "outputs": [
    {
     "name": "stdout",
     "output_type": "stream",
     "text": [
      "[ 1  2  3  4  5  6  7  8  9 10]\n",
      "[11 12 13 14 15 16 17 18 19 20]\n",
      "\n",
      "[12 14 16 18 20 22 24 26 28 30]\n"
     ]
    }
   ],
   "source": [
    "import numpy as np\n",
    "\n",
    "arr1=np.arange(1,11)\n",
    "arr2=np.arange(11,21)\n",
    "print(arr1)\n",
    "print(arr2)\n",
    "print()\n",
    "print(arr1+arr2)\n",
    "\n"
   ]
  },
  {
   "cell_type": "markdown",
   "id": "63292cca-79eb-4dcb-aed3-edc748d681df",
   "metadata": {},
   "source": [
    "## Subtraction"
   ]
  },
  {
   "cell_type": "code",
   "execution_count": 2,
   "id": "b2caf781-3bf8-44af-9dbe-90d74f0c3d10",
   "metadata": {},
   "outputs": [
    {
     "name": "stdout",
     "output_type": "stream",
     "text": [
      "[ 1  2  3  4  5  6  7  8  9 10]\n",
      "[11 12 13 14 15 16 17 18 19 20]\n",
      "\n",
      "[10 10 10 10 10 10 10 10 10 10]\n"
     ]
    }
   ],
   "source": [
    "import numpy as np\n",
    "\n",
    "arr1=np.arange(1,11)\n",
    "arr2=np.arange(11,21)\n",
    "print(arr1)\n",
    "print(arr2)\n",
    "print()\n",
    "print(arr2-arr1)\n",
    "\n"
   ]
  },
  {
   "cell_type": "markdown",
   "id": "e992e496-621e-4d95-aa16-1732d7151106",
   "metadata": {},
   "source": [
    "## Multiplication"
   ]
  },
  {
   "cell_type": "code",
   "execution_count": 3,
   "id": "82b4c713-a853-4b0d-970d-22f455a374f6",
   "metadata": {},
   "outputs": [
    {
     "name": "stdout",
     "output_type": "stream",
     "text": [
      "[ 1  2  3  4  5  6  7  8  9 10]\n",
      "[11 12 13 14 15 16 17 18 19 20]\n",
      "\n",
      "[ 11  24  39  56  75  96 119 144 171 200]\n"
     ]
    }
   ],
   "source": [
    "import numpy as np\n",
    "\n",
    "arr1=np.arange(1,11)\n",
    "arr2=np.arange(11,21)\n",
    "print(arr1)\n",
    "print(arr2)\n",
    "print()\n",
    "print(arr2*arr1)\n",
    "\n"
   ]
  },
  {
   "cell_type": "markdown",
   "id": "9ebdefad-1673-4452-8b14-71a46783bf21",
   "metadata": {},
   "source": [
    "## Dot Product\n",
    "### Rule if 1st Matrix column is Equal to 2nd Matrix Row then Dot Product is Possible"
   ]
  },
  {
   "cell_type": "code",
   "execution_count": 4,
   "id": "05ef82c7-71d5-4063-ada3-2b546fa6301e",
   "metadata": {},
   "outputs": [
    {
     "name": "stdout",
     "output_type": "stream",
     "text": [
      "[[ 1  2  3  4  5]\n",
      " [ 6  7  8  9 10]]\n",
      "[[11 12]\n",
      " [13 14]\n",
      " [15 16]\n",
      " [17 18]\n",
      " [19 20]]\n",
      "\n",
      "[[245 260]\n",
      " [620 660]]\n"
     ]
    }
   ],
   "source": [
    "import numpy as np\n",
    "\n",
    "arr1=np.arange(1,11).reshape(2,5)\n",
    "arr2=np.arange(11,21).reshape(5,2)\n",
    "print(arr1)\n",
    "print(arr2)\n",
    "print()\n",
    "print(arr1.dot(arr2))\n",
    "\n"
   ]
  },
  {
   "cell_type": "markdown",
   "id": "e37d89a5-c543-4688-81d5-b33c936a649b",
   "metadata": {},
   "source": [
    "## max()"
   ]
  },
  {
   "cell_type": "code",
   "execution_count": 5,
   "id": "a3d8ea9e-efcc-433f-b12f-65888f4ec98a",
   "metadata": {},
   "outputs": [
    {
     "name": "stdout",
     "output_type": "stream",
     "text": [
      "[[11 12]\n",
      " [13 14]\n",
      " [15 16]\n",
      " [17 18]\n",
      " [19 20]]\n",
      "\n",
      "20\n"
     ]
    }
   ],
   "source": [
    "import numpy as np\n",
    "\n",
    "arr2=np.arange(11,21).reshape(5,2)\n",
    "print(arr2)\n",
    "\n",
    "print()\n",
    "print(arr2.max())\n",
    "\n"
   ]
  },
  {
   "cell_type": "markdown",
   "id": "fd14740a-1629-44dc-84a5-690b254ebb96",
   "metadata": {},
   "source": [
    "## min()"
   ]
  },
  {
   "cell_type": "code",
   "execution_count": 6,
   "id": "0183bbc0-209e-48c7-b8a5-9d94cc6f910a",
   "metadata": {},
   "outputs": [
    {
     "name": "stdout",
     "output_type": "stream",
     "text": [
      "[[11 12]\n",
      " [13 14]\n",
      " [15 16]\n",
      " [17 18]\n",
      " [19 20]]\n",
      "\n",
      "11\n"
     ]
    }
   ],
   "source": [
    "import numpy as np\n",
    "\n",
    "arr2=np.arange(11,21).reshape(5,2)\n",
    "print(arr2)\n",
    "\n",
    "print()\n",
    "print(arr2.min())\n",
    "\n"
   ]
  },
  {
   "cell_type": "markdown",
   "id": "5e53c938-37a8-4203-82ac-d960900e2676",
   "metadata": {},
   "source": [
    "## axis=0 :\n",
    "### for take full Max or min column in Matrix"
   ]
  },
  {
   "cell_type": "code",
   "execution_count": 11,
   "id": "d0ed847d-b7d8-4410-b51b-ead92ca9a8f4",
   "metadata": {},
   "outputs": [
    {
     "name": "stdout",
     "output_type": "stream",
     "text": [
      "[[11 12]\n",
      " [13 14]\n",
      " [15 16]\n",
      " [17 18]\n",
      " [19 20]]\n",
      "\n",
      "max column\n",
      "[19 20]\n",
      "min column\n",
      "[11 12]\n"
     ]
    }
   ],
   "source": [
    "import numpy as np\n",
    "\n",
    "arr2=np.arange(11,21).reshape(5,2)\n",
    "print(arr2)\n",
    "\n",
    "print()\n",
    "print(\"max column\")\n",
    "print(arr2.max(axis=0))\n",
    "print(\"min column\")\n",
    "print(arr2.min(axis=0))\n",
    "\n"
   ]
  },
  {
   "cell_type": "markdown",
   "id": "487e2c38-4d36-40d1-a47c-1f1190f5af91",
   "metadata": {},
   "source": [
    "## axis=1 :\n",
    "### for take full Max or min Row in Matrix"
   ]
  },
  {
   "cell_type": "code",
   "execution_count": 10,
   "id": "cca86834-02f7-464a-a0ec-9d639635a54a",
   "metadata": {},
   "outputs": [
    {
     "name": "stdout",
     "output_type": "stream",
     "text": [
      "[[11 12]\n",
      " [13 14]\n",
      " [15 16]\n",
      " [17 18]\n",
      " [19 20]]\n",
      "\n",
      "max Row\n",
      "[12 14 16 18 20]\n",
      "min Row\n",
      "[11 13 15 17 19]\n"
     ]
    }
   ],
   "source": [
    "import numpy as np\n",
    "\n",
    "arr2=np.arange(11,21).reshape(5,2)\n",
    "print(arr2)\n",
    "\n",
    "print()\n",
    "print(\"max Row\")\n",
    "print(arr2.max(axis=1))\n",
    "print(\"min Row\")\n",
    "print(arr2.min(axis=1))\n",
    "\n"
   ]
  },
  {
   "cell_type": "markdown",
   "id": "17c9bb70-1ac1-4d42-b400-a57aa77f9f5e",
   "metadata": {},
   "source": [
    "## sum()\n",
    "### all item in Matrix is add"
   ]
  },
  {
   "cell_type": "code",
   "execution_count": 9,
   "id": "61f0217b-9475-41f8-ada1-26515c041378",
   "metadata": {},
   "outputs": [
    {
     "name": "stdout",
     "output_type": "stream",
     "text": [
      "[[11 12 13 14 15]\n",
      " [16 17 18 19 20]]\n",
      "\n",
      "155\n"
     ]
    }
   ],
   "source": [
    "import numpy as np\n",
    "\n",
    "arr2=np.arange(11,21).reshape(2,5)\n",
    "print(arr2)\n",
    "\n",
    "print()\n",
    "print(arr2.sum())\n",
    "\n",
    "\n",
    "\n"
   ]
  },
  {
   "cell_type": "markdown",
   "id": "63eb1655-ea18-483c-8b52-7d7311450edb",
   "metadata": {},
   "source": [
    "## Column sum() : axis=0"
   ]
  },
  {
   "cell_type": "code",
   "execution_count": 12,
   "id": "1345d195-6fdd-46bb-b007-0c3452184fbd",
   "metadata": {},
   "outputs": [
    {
     "name": "stdout",
     "output_type": "stream",
     "text": [
      "[[11 12 13 14 15]\n",
      " [16 17 18 19 20]]\n",
      "\n",
      "[27 29 31 33 35]\n"
     ]
    }
   ],
   "source": [
    "import numpy as np\n",
    "\n",
    "arr2=np.arange(11,21).reshape(2,5)\n",
    "print(arr2)\n",
    "\n",
    "print()\n",
    "print(arr2.sum(axis=0))\n",
    "\n",
    "\n",
    "\n"
   ]
  },
  {
   "cell_type": "markdown",
   "id": "ee870abb-4f37-4798-b5a4-69a26015f2f7",
   "metadata": {},
   "source": [
    "## Row sum() : axis=1"
   ]
  },
  {
   "cell_type": "code",
   "execution_count": 13,
   "id": "e02d003c-22b8-4b3d-ad5b-0b8cd322aaac",
   "metadata": {},
   "outputs": [
    {
     "name": "stdout",
     "output_type": "stream",
     "text": [
      "[[11 12 13 14 15]\n",
      " [16 17 18 19 20]]\n",
      "\n",
      "[65 90]\n"
     ]
    }
   ],
   "source": [
    "import numpy as np\n",
    "\n",
    "arr2=np.arange(11,21).reshape(2,5)\n",
    "print(arr2)\n",
    "\n",
    "print()\n",
    "print(arr2.sum(axis=1))\n",
    "\n",
    "\n",
    "\n"
   ]
  },
  {
   "cell_type": "markdown",
   "id": "9f54b5ab-a14a-4075-9331-508e63319390",
   "metadata": {},
   "source": [
    "## mean() : sum/number of item"
   ]
  },
  {
   "cell_type": "markdown",
   "id": "2409ac17-fcc3-41d6-b47d-377f335d66ef",
   "metadata": {},
   "source": [
    "import numpy as np\n",
    "\n",
    "arr2=np.arange(11,21).reshape(2,5)\n",
    "print(arr2)\n",
    "\n",
    "print()\n",
    "print(arr2.mean())\n"
   ]
  },
  {
   "cell_type": "markdown",
   "id": "97b726f8-6b73-47b4-8ba0-d0166459bb74",
   "metadata": {},
   "source": [
    "## std() : Standerd Deviation"
   ]
  },
  {
   "cell_type": "code",
   "execution_count": 15,
   "id": "3acf433f-16bc-4a0d-b549-659eae242463",
   "metadata": {},
   "outputs": [
    {
     "name": "stdout",
     "output_type": "stream",
     "text": [
      "[[11 12 13 14 15]\n",
      " [16 17 18 19 20]]\n",
      "\n",
      "2.8722813232690143\n"
     ]
    }
   ],
   "source": [
    "import numpy as np\n",
    "\n",
    "arr2=np.arange(11,21).reshape(2,5)\n",
    "print(arr2)\n",
    "\n",
    "print()\n",
    "print(arr2.std())\n",
    "\n",
    "\n",
    "\n"
   ]
  },
  {
   "cell_type": "markdown",
   "id": "b2fa13ff-e6c9-4a52-9e75-f071cd09f376",
   "metadata": {},
   "source": [
    "## sin()"
   ]
  },
  {
   "cell_type": "code",
   "execution_count": 17,
   "id": "9ef71c1b-5585-4a9a-bbe5-7d009479c3c8",
   "metadata": {},
   "outputs": [
    {
     "name": "stdout",
     "output_type": "stream",
     "text": [
      "[[11 12 13 14 15]\n",
      " [16 17 18 19 20]]\n",
      "\n",
      "[[-0.99999021 -0.53657292  0.42016704  0.99060736  0.65028784]\n",
      " [-0.28790332 -0.96139749 -0.75098725  0.14987721  0.91294525]]\n"
     ]
    }
   ],
   "source": [
    "import numpy as np\n",
    "\n",
    "arr2=np.arange(11,21).reshape(2,5)\n",
    "print(arr2)\n",
    "\n",
    "print()\n",
    "print(np.sin(arr2))\n",
    "\n"
   ]
  },
  {
   "cell_type": "markdown",
   "id": "313b490d-8328-4210-b86d-28a2ecfe77d1",
   "metadata": {},
   "source": [
    "## median()"
   ]
  },
  {
   "cell_type": "code",
   "execution_count": 18,
   "id": "ae829ea1-02ed-4c37-84a7-ee6d5aa8cde9",
   "metadata": {},
   "outputs": [
    {
     "name": "stdout",
     "output_type": "stream",
     "text": [
      "[[11 12 13 14 15]\n",
      " [16 17 18 19 20]]\n",
      "\n",
      "15.5\n"
     ]
    }
   ],
   "source": [
    "import numpy as np\n",
    "\n",
    "arr2=np.arange(11,21).reshape(2,5)\n",
    "print(arr2)\n",
    "\n",
    "print()\n",
    "print(np.median(arr2))\n",
    "\n"
   ]
  },
  {
   "cell_type": "markdown",
   "id": "d49570e9-3e52-4e1b-a792-eea9ef695140",
   "metadata": {},
   "source": [
    "### a lot of operation like log,tan,cos etc"
   ]
  },
  {
   "cell_type": "code",
   "execution_count": null,
   "id": "2285760b-da37-49e4-bf77-a10d3d5a07f2",
   "metadata": {},
   "outputs": [],
   "source": []
  }
 ],
 "metadata": {
  "kernelspec": {
   "display_name": "Python 3 (ipykernel)",
   "language": "python",
   "name": "python3"
  },
  "language_info": {
   "codemirror_mode": {
    "name": "ipython",
    "version": 3
   },
   "file_extension": ".py",
   "mimetype": "text/x-python",
   "name": "python",
   "nbconvert_exporter": "python",
   "pygments_lexer": "ipython3",
   "version": "3.12.7"
  }
 },
 "nbformat": 4,
 "nbformat_minor": 5
}
