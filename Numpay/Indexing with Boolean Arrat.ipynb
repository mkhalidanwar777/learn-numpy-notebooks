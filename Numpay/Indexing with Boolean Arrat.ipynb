{
 "cells": [
  {
   "cell_type": "markdown",
   "id": "4aef459e-e346-4f5a-b21b-0e0b589e9961",
   "metadata": {},
   "source": [
    "# Indexing with Boolean Arrat"
   ]
  },
  {
   "cell_type": "markdown",
   "id": "462957d5-7752-46e5-b65d-b49f9976e3e5",
   "metadata": {},
   "source": [
    "### i have random array in which have 20 number 1 to 100 and i want only those which is >50"
   ]
  },
  {
   "cell_type": "code",
   "execution_count": 1,
   "id": "35db8f90-e894-43d9-afa2-d00692a621e1",
   "metadata": {},
   "outputs": [
    {
     "name": "stdout",
     "output_type": "stream",
     "text": [
      "[[59 90 48 52 46]\n",
      " [86 56 69 32 64]\n",
      " [27 37 41 91  4]\n",
      " [81 84 89 51  6]]\n",
      "\n",
      "\n",
      "[59 90 52 86 56 69 64 91 81 84 89 51]\n"
     ]
    }
   ],
   "source": [
    "import numpy as np\n",
    "arr1=np.random.randint(low=1,high=100,size=20).reshape(4,5)\n",
    "print(arr1)\n",
    "print()\n",
    "print()\n",
    "print(arr1[arr1>50])\n"
   ]
  },
  {
   "cell_type": "markdown",
   "id": "55eff351-d51e-4d58-8968-b768ed2dc903",
   "metadata": {},
   "source": [
    "### now >50 and old number"
   ]
  },
  {
   "cell_type": "code",
   "execution_count": 2,
   "id": "230d8da6-4997-47f5-8a3a-5fe62b0ebc10",
   "metadata": {},
   "outputs": [
    {
     "name": "stdout",
     "output_type": "stream",
     "text": [
      "[[73 12 63 10 18]\n",
      " [20 17 92 50 79]\n",
      " [78 39  6 51 54]\n",
      " [77 30 67  7 54]]\n",
      "\n",
      "[73 63 92 79 78 51 54 77 67 54]\n",
      "\n",
      "[73 63 79 51 77 67]\n"
     ]
    }
   ],
   "source": [
    "import numpy as np\n",
    "arr1=np.random.randint(low=1,high=100,size=20).reshape(4,5)\n",
    "print(arr1)\n",
    "print()\n",
    "print(arr1[arr1>50])\n",
    "print()\n",
    "print(arr1[(arr1>50) & (arr1%2==1)])\n"
   ]
  },
  {
   "cell_type": "markdown",
   "id": "e60aa957-a4f5-4d99-a490-566afe9397b4",
   "metadata": {},
   "source": [
    "### now replace this old value to zero "
   ]
  },
  {
   "cell_type": "code",
   "execution_count": 4,
   "id": "b6a868eb-781c-408a-93c9-c540be91d774",
   "metadata": {},
   "outputs": [
    {
     "name": "stdout",
     "output_type": "stream",
     "text": [
      "[[48  5 48 35 29]\n",
      " [82 54  4 99  3]\n",
      " [48 61  3 95 92]\n",
      " [39 86 25 21 54]]\n",
      "\n",
      "[82 54 99 61 95 92 86 54]\n",
      "\n",
      "[99 61 95]\n",
      "\n",
      "\n",
      "[[48  5 48 35 29]\n",
      " [82 54  4  0  3]\n",
      " [48  0  3  0 92]\n",
      " [39 86 25 21 54]]\n"
     ]
    }
   ],
   "source": [
    "import numpy as np\n",
    "arr1=np.random.randint(low=1,high=100,size=20).reshape(4,5)\n",
    "print(arr1)\n",
    "print()\n",
    "print(arr1[arr1>50])\n",
    "print()\n",
    "print(arr1[(arr1>50) & (arr1%2==1)])\n",
    "print()\n",
    "arr1[(arr1>50) & (arr1%2==1)]=0\n",
    "print()\n",
    "print(arr1)\n"
   ]
  },
  {
   "cell_type": "code",
   "execution_count": null,
   "id": "2f66428d-9e47-45fe-ba69-c1ab6d9f9199",
   "metadata": {},
   "outputs": [],
   "source": []
  }
 ],
 "metadata": {
  "kernelspec": {
   "display_name": "Python 3 (ipykernel)",
   "language": "python",
   "name": "python3"
  },
  "language_info": {
   "codemirror_mode": {
    "name": "ipython",
    "version": 3
   },
   "file_extension": ".py",
   "mimetype": "text/x-python",
   "name": "python",
   "nbconvert_exporter": "python",
   "pygments_lexer": "ipython3",
   "version": "3.12.7"
  }
 },
 "nbformat": 4,
 "nbformat_minor": 5
}
