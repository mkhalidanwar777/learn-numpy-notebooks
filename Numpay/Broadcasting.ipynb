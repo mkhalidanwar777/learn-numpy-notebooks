{
 "cells": [
  {
   "cell_type": "markdown",
   "id": "241ee8b2-721d-4734-b255-720e487c3477",
   "metadata": {},
   "source": [
    "# Broadcasting"
   ]
  },
  {
   "cell_type": "markdown",
   "id": "b50bdfe1-fa75-414a-9240-baed021def2e",
   "metadata": {},
   "source": [
    "### 1. M1(2,4) and M2 (2,4) Broadcasting is possible\n",
    "       "
   ]
  },
  {
   "cell_type": "code",
   "execution_count": 1,
   "id": "2f0f5ce8-f6ed-4983-8b63-f1db401a3915",
   "metadata": {},
   "outputs": [
    {
     "name": "stdout",
     "output_type": "stream",
     "text": [
      "[[1 2 3 4]\n",
      " [5 6 7 8]]\n",
      "\n",
      "\n",
      "[[1 2 3 4]\n",
      " [5 6 7 8]]\n",
      "\n",
      "\n",
      "[[ 2  4  6  8]\n",
      " [10 12 14 16]]\n"
     ]
    }
   ],
   "source": [
    "import numpy as np\n",
    "\n",
    "arr1=np.arange(1,9).reshape(2,4)\n",
    "arr2=np.arange(1,9).reshape(2,4)\n",
    "\n",
    "print(arr1)\n",
    "print()\n",
    "print()\n",
    "print(arr2)\n",
    "print()\n",
    "print()\n",
    "\n",
    "print(arr1+arr2)\n"
   ]
  },
  {
   "cell_type": "markdown",
   "id": "37de84d9-7bea-486e-823e-871e5bf3f063",
   "metadata": {},
   "source": [
    "### 2. M1(1,3) and M2 (4,3) Broadcasting is possible"
   ]
  },
  {
   "cell_type": "code",
   "execution_count": 2,
   "id": "d0dbd9f0-8ee7-44de-b5e1-e01db437980c",
   "metadata": {},
   "outputs": [
    {
     "name": "stdout",
     "output_type": "stream",
     "text": [
      "[[1 2 3]]\n",
      "\n",
      "\n",
      "[[ 1  2  3]\n",
      " [ 4  5  6]\n",
      " [ 7  8  9]\n",
      " [10 11 12]]\n",
      "\n",
      "\n",
      "[[ 2  4  6]\n",
      " [ 5  7  9]\n",
      " [ 8 10 12]\n",
      " [11 13 15]]\n"
     ]
    }
   ],
   "source": [
    "import numpy as np\n",
    "\n",
    "arr1=np.arange(1,4).reshape(1,3)\n",
    "arr2=np.arange(1,13).reshape(4,3)\n",
    "\n",
    "print(arr1)\n",
    "print()\n",
    "print()\n",
    "print(arr2)\n",
    "print()\n",
    "print()\n",
    "\n",
    "print(arr1+arr2)\n"
   ]
  },
  {
   "cell_type": "markdown",
   "id": "e83b938c-5a39-4f29-81fe-8e3c1507fbd8",
   "metadata": {},
   "source": [
    "### 3. M1(4,1) and M2 (4,3) Broadcasting is possible"
   ]
  },
  {
   "cell_type": "code",
   "execution_count": 3,
   "id": "588867cd-80d4-41cf-901e-634144879407",
   "metadata": {},
   "outputs": [
    {
     "name": "stdout",
     "output_type": "stream",
     "text": [
      "[[1]\n",
      " [2]\n",
      " [3]\n",
      " [4]]\n",
      "\n",
      "\n",
      "[[ 1  2  3]\n",
      " [ 4  5  6]\n",
      " [ 7  8  9]\n",
      " [10 11 12]]\n",
      "\n",
      "\n",
      "[[ 2  3  4]\n",
      " [ 6  7  8]\n",
      " [10 11 12]\n",
      " [14 15 16]]\n"
     ]
    }
   ],
   "source": [
    "import numpy as np\n",
    "\n",
    "arr1=np.arange(1,5).reshape(4,1)\n",
    "arr2=np.arange(1,13).reshape(4,3)\n",
    "\n",
    "print(arr1)\n",
    "print()\n",
    "print()\n",
    "print(arr2)\n",
    "print()\n",
    "print()\n",
    "\n",
    "print(arr1+arr2)\n"
   ]
  },
  {
   "cell_type": "markdown",
   "id": "b56e7166-1e57-4056-ad85-52573226d1cc",
   "metadata": {},
   "source": [
    "### 4. M1(1,3) and M2 (4,4) Broadcasting is not possible"
   ]
  },
  {
   "cell_type": "code",
   "execution_count": 4,
   "id": "4579c881-a30f-4d20-b3b7-91741f66ac12",
   "metadata": {},
   "outputs": [
    {
     "name": "stdout",
     "output_type": "stream",
     "text": [
      "[[1 2 3]]\n",
      "\n",
      "\n",
      "[[ 1  2  3  4]\n",
      " [ 5  6  7  8]\n",
      " [ 9 10 11 12]\n",
      " [13 14 15 16]]\n",
      "\n",
      "\n"
     ]
    },
    {
     "ename": "ValueError",
     "evalue": "operands could not be broadcast together with shapes (1,3) (4,4) ",
     "output_type": "error",
     "traceback": [
      "\u001b[31m---------------------------------------------------------------------------\u001b[39m",
      "\u001b[31mValueError\u001b[39m                                Traceback (most recent call last)",
      "\u001b[36mCell\u001b[39m\u001b[36m \u001b[39m\u001b[32mIn[4]\u001b[39m\u001b[32m, line 13\u001b[39m\n\u001b[32m     10\u001b[39m \u001b[38;5;28mprint\u001b[39m()\n\u001b[32m     11\u001b[39m \u001b[38;5;28mprint\u001b[39m()\n\u001b[32m---> \u001b[39m\u001b[32m13\u001b[39m \u001b[38;5;28mprint\u001b[39m(\u001b[43marr1\u001b[49m\u001b[43m+\u001b[49m\u001b[43marr2\u001b[49m)\n",
      "\u001b[31mValueError\u001b[39m: operands could not be broadcast together with shapes (1,3) (4,4) "
     ]
    }
   ],
   "source": [
    "import numpy as np\n",
    "\n",
    "arr1=np.arange(1,4).reshape(1,3)\n",
    "arr2=np.arange(1,17).reshape(4,4)\n",
    "\n",
    "print(arr1)\n",
    "print()\n",
    "print()\n",
    "print(arr2)\n",
    "print()\n",
    "print()\n",
    "\n",
    "print(arr1+arr2)\n"
   ]
  },
  {
   "cell_type": "markdown",
   "id": "d311b057-973e-4107-9a5f-4583657c3d05",
   "metadata": {},
   "source": [
    "### 5. M1(1,3) and M2 (3,1) Broadcasting is possible"
   ]
  },
  {
   "cell_type": "code",
   "execution_count": 5,
   "id": "9b026819-beaf-4172-a65c-cd6616c65cc2",
   "metadata": {},
   "outputs": [
    {
     "name": "stdout",
     "output_type": "stream",
     "text": [
      "[[1 2 3]]\n",
      "\n",
      "\n",
      "[[4 5 6]]\n",
      "\n",
      "\n",
      "[[5 7 9]]\n"
     ]
    }
   ],
   "source": [
    "import numpy as np\n",
    "\n",
    "arr1=np.arange(1,4).reshape(1,3)\n",
    "arr2=np.arange(4,7).reshape(1,3)\n",
    "\n",
    "print(arr1)\n",
    "print()\n",
    "print()\n",
    "print(arr2)\n",
    "print()\n",
    "print()\n",
    "\n",
    "print(arr1+arr2)\n"
   ]
  },
  {
   "cell_type": "markdown",
   "id": "076c4860-d400-45b4-9c81-b0274ba8d47b",
   "metadata": {},
   "source": [
    "### 6. M1(1,1) and M2 (4,5) Broadcasting is possible"
   ]
  },
  {
   "cell_type": "code",
   "execution_count": 6,
   "id": "2dbd72bb-ed07-43a6-bcba-450682188119",
   "metadata": {},
   "outputs": [
    {
     "name": "stdout",
     "output_type": "stream",
     "text": [
      "[[1]]\n",
      "\n",
      "\n",
      "[[ 4  5  6  7  8]\n",
      " [ 9 10 11 12 13]\n",
      " [14 15 16 17 18]\n",
      " [19 20 21 22 23]]\n",
      "\n",
      "\n",
      "[[ 5  6  7  8  9]\n",
      " [10 11 12 13 14]\n",
      " [15 16 17 18 19]\n",
      " [20 21 22 23 24]]\n"
     ]
    }
   ],
   "source": [
    "\n",
    "import numpy as np\n",
    "\n",
    "arr1=np.arange(1,2).reshape(1,1)\n",
    "arr2=np.arange(4,24).reshape(4,5)\n",
    "\n",
    "print(arr1)\n",
    "print()\n",
    "print()\n",
    "print(arr2)\n",
    "print()\n",
    "print()\n",
    "\n",
    "print(arr1+arr2)\n"
   ]
  },
  {
   "cell_type": "markdown",
   "id": "f06e591b-285f-47a9-bf7a-697563ffddd0",
   "metadata": {},
   "source": [
    "### 7. M1( , 4) and M2 (5,4) Broadcasting is possible"
   ]
  },
  {
   "cell_type": "code",
   "execution_count": 7,
   "id": "fb582968-9a38-409a-b48c-7c3d5bea4537",
   "metadata": {},
   "outputs": [
    {
     "name": "stdout",
     "output_type": "stream",
     "text": [
      "[1 2 3 4]\n",
      "\n",
      "\n",
      "[[ 4  5  6  7]\n",
      " [ 8  9 10 11]\n",
      " [12 13 14 15]\n",
      " [16 17 18 19]\n",
      " [20 21 22 23]]\n",
      "\n",
      "\n",
      "[[ 5  7  9 11]\n",
      " [ 9 11 13 15]\n",
      " [13 15 17 19]\n",
      " [17 19 21 23]\n",
      " [21 23 25 27]]\n"
     ]
    }
   ],
   "source": [
    "\n",
    "import numpy as np\n",
    "\n",
    "arr1=np.array([1,2,3,4])\n",
    "arr2=np.arange(4,24).reshape(5,4)\n",
    "\n",
    "print(arr1)\n",
    "print()\n",
    "print()\n",
    "print(arr2)\n",
    "print()\n",
    "print()\n",
    "\n",
    "print(arr1+arr2)\n"
   ]
  },
  {
   "cell_type": "code",
   "execution_count": null,
   "id": "c23373d5-e746-4cd8-a102-405f187f0f30",
   "metadata": {},
   "outputs": [],
   "source": []
  }
 ],
 "metadata": {
  "kernelspec": {
   "display_name": "Python 3 (ipykernel)",
   "language": "python",
   "name": "python3"
  },
  "language_info": {
   "codemirror_mode": {
    "name": "ipython",
    "version": 3
   },
   "file_extension": ".py",
   "mimetype": "text/x-python",
   "name": "python",
   "nbconvert_exporter": "python",
   "pygments_lexer": "ipython3",
   "version": "3.12.7"
  }
 },
 "nbformat": 4,
 "nbformat_minor": 5
}
