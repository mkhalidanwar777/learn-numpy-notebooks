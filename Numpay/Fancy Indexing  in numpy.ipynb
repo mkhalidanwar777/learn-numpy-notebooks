{
 "cells": [
  {
   "cell_type": "markdown",
   "id": "7559ee22-fac5-4b26-a0a7-aaac26b69526",
   "metadata": {},
   "source": [
    "# Fancy Indexing in numpy"
   ]
  },
  {
   "cell_type": "markdown",
   "id": "8c93aed2-5dea-400f-a98d-ca357f2f3d10",
   "metadata": {},
   "source": [
    "### let suppose in matrix have 6 Rows and i want only 1st and 3rd one"
   ]
  },
  {
   "cell_type": "code",
   "execution_count": 1,
   "id": "3646b686-0ebd-454e-921e-6288397cae6e",
   "metadata": {},
   "outputs": [
    {
     "name": "stdout",
     "output_type": "stream",
     "text": [
      "[[ 1  2  3  4]\n",
      " [ 5  6  7  8]\n",
      " [ 9 10 11 12]\n",
      " [13 14 15 16]\n",
      " [17 18 19 20]\n",
      " [21 22 23 24]]\n",
      "\n",
      "\n",
      "[[ 1  2  3  4]\n",
      " [ 9 10 11 12]]\n"
     ]
    }
   ],
   "source": [
    "import numpy as np\n",
    "arr1=np.arange(1,25).reshape(6,4)\n",
    "\n",
    "print(arr1)\n",
    "print()\n",
    "print()\n",
    "print(arr1[[0,2]])\n"
   ]
  },
  {
   "cell_type": "markdown",
   "id": "0d06e9da-9547-4118-8d84-63489306b696",
   "metadata": {},
   "source": [
    "### now this two rows i want last two column "
   ]
  },
  {
   "cell_type": "code",
   "execution_count": 2,
   "id": "0e0befe4-5173-4e86-86b7-6b6c2b613105",
   "metadata": {},
   "outputs": [
    {
     "name": "stdout",
     "output_type": "stream",
     "text": [
      "[[ 1  2  3  4]\n",
      " [ 5  6  7  8]\n",
      " [ 9 10 11 12]\n",
      " [13 14 15 16]\n",
      " [17 18 19 20]\n",
      " [21 22 23 24]]\n",
      "\n",
      "\n",
      "[[ 3  4]\n",
      " [11 12]]\n"
     ]
    }
   ],
   "source": [
    "import numpy as np\n",
    "arr1=np.arange(1,25).reshape(6,4)\n",
    "\n",
    "print(arr1)\n",
    "print()\n",
    "print()\n",
    "print(arr1[[0,2,],2:4])\n"
   ]
  },
  {
   "cell_type": "code",
   "execution_count": null,
   "id": "7a8d6653-4e94-4349-b385-8147fcc36c2e",
   "metadata": {},
   "outputs": [],
   "source": []
  }
 ],
 "metadata": {
  "kernelspec": {
   "display_name": "Python 3 (ipykernel)",
   "language": "python",
   "name": "python3"
  },
  "language_info": {
   "codemirror_mode": {
    "name": "ipython",
    "version": 3
   },
   "file_extension": ".py",
   "mimetype": "text/x-python",
   "name": "python",
   "nbconvert_exporter": "python",
   "pygments_lexer": "ipython3",
   "version": "3.12.7"
  }
 },
 "nbformat": 4,
 "nbformat_minor": 5
}
