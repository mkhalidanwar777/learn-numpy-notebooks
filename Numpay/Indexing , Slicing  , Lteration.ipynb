{
 "cells": [
  {
   "cell_type": "markdown",
   "id": "94c1381d-f22a-4c34-97ea-adc261a0e7c1",
   "metadata": {},
   "source": [
    "# Indexing"
   ]
  },
  {
   "cell_type": "markdown",
   "id": "d017d28e-82ba-4d8a-af38-976208285600",
   "metadata": {},
   "source": [
    "### Single item indexing in Single Row"
   ]
  },
  {
   "cell_type": "code",
   "execution_count": 1,
   "id": "751ef93e-2b6c-4539-beb2-862d56d08239",
   "metadata": {},
   "outputs": [
    {
     "name": "stdout",
     "output_type": "stream",
     "text": [
      "[ 5  6  7  8  9 10]\n",
      "6\n"
     ]
    }
   ],
   "source": [
    "import numpy as np\n",
    "\n",
    "arr1=np.arange(5,11)\n",
    "print(arr1)\n",
    "\n",
    "print(arr1[1])\n"
   ]
  },
  {
   "cell_type": "markdown",
   "id": "938e6b9c-b269-4f97-87cc-69e2f2a3b7bf",
   "metadata": {},
   "source": [
    "### now more the 1 Rows\n",
    "#### in this case if you pass only one value then in out give a Full row"
   ]
  },
  {
   "cell_type": "code",
   "execution_count": 2,
   "id": "b93cdee1-f44e-40d8-b232-95d56b73b66c",
   "metadata": {},
   "outputs": [
    {
     "name": "stdout",
     "output_type": "stream",
     "text": [
      "[[ 1  2  3  4  5  6]\n",
      " [ 7  8  9 10 11 12]\n",
      " [13 14 15 16 17 18]\n",
      " [19 20 21 22 23 24]]\n",
      "\n",
      "\n",
      "[ 7  8  9 10 11 12]\n"
     ]
    }
   ],
   "source": [
    "import numpy as np\n",
    "\n",
    "arr1=np.arange(1,25).reshape(4,6)\n",
    "print(arr1)\n",
    "print()\n",
    "print()\n",
    "\n",
    "print(arr1[1])\n"
   ]
  },
  {
   "cell_type": "markdown",
   "id": "1d3d1eec-43bf-4910-b59f-e5136e783a10",
   "metadata": {},
   "source": [
    "### single item in more then one rows"
   ]
  },
  {
   "cell_type": "code",
   "execution_count": 3,
   "id": "a8edf385-d850-488a-aeec-39bc362fa7c4",
   "metadata": {},
   "outputs": [
    {
     "name": "stdout",
     "output_type": "stream",
     "text": [
      "[[ 1  2  3  4  5  6]\n",
      " [ 7  8  9 10 11 12]\n",
      " [13 14 15 16 17 18]\n",
      " [19 20 21 22 23 24]]\n",
      "\n",
      "\n",
      "9\n"
     ]
    }
   ],
   "source": [
    "import numpy as np\n",
    "\n",
    "arr1=np.arange(1,25).reshape(4,6)\n",
    "print(arr1)\n",
    "print()\n",
    "print()\n",
    "\n",
    "print(arr1[1,2])\n"
   ]
  },
  {
   "cell_type": "markdown",
   "id": "4f3d5d1f-2d09-45ef-ada8-886606b1db17",
   "metadata": {},
   "source": [
    "### now a one Full column"
   ]
  },
  {
   "cell_type": "code",
   "execution_count": 4,
   "id": "8ff9f9d8-e25f-4727-bdb8-21cda51c1976",
   "metadata": {},
   "outputs": [
    {
     "name": "stdout",
     "output_type": "stream",
     "text": [
      "[[ 1  2  3  4  5  6]\n",
      " [ 7  8  9 10 11 12]\n",
      " [13 14 15 16 17 18]\n",
      " [19 20 21 22 23 24]]\n",
      "\n",
      "\n",
      "[ 3  9 15 21]\n"
     ]
    }
   ],
   "source": [
    "import numpy as np\n",
    "\n",
    "arr1=np.arange(1,25).reshape(4,6)\n",
    "print(arr1)\n",
    "print()\n",
    "print()\n",
    "\n",
    "print(arr1[: , 2])\n"
   ]
  },
  {
   "cell_type": "markdown",
   "id": "f7fa8b1e-c1ca-4b6b-8f75-dad53b13d7e0",
   "metadata": {},
   "source": [
    "### now two column"
   ]
  },
  {
   "cell_type": "code",
   "execution_count": 5,
   "id": "0a33efc9-cf07-48ae-b226-0521e7773b3c",
   "metadata": {},
   "outputs": [
    {
     "name": "stdout",
     "output_type": "stream",
     "text": [
      "[[ 1  2  3  4  5  6]\n",
      " [ 7  8  9 10 11 12]\n",
      " [13 14 15 16 17 18]\n",
      " [19 20 21 22 23 24]]\n",
      "\n",
      "\n",
      "[[ 3  4]\n",
      " [ 9 10]\n",
      " [15 16]\n",
      " [21 22]]\n"
     ]
    }
   ],
   "source": [
    "\n",
    "import numpy as np\n",
    "\n",
    "arr1=np.arange(1,25).reshape(4,6)\n",
    "print(arr1)\n",
    "print()\n",
    "print()\n",
    "\n",
    "print(arr1[: , 2:4])\n"
   ]
  },
  {
   "cell_type": "markdown",
   "id": "08913ec5-caa6-4b6d-a858-034031e51d6a",
   "metadata": {},
   "source": [
    "# Slicing"
   ]
  },
  {
   "cell_type": "code",
   "execution_count": 6,
   "id": "7b50f43b-9280-4ae1-9756-7590199dd27c",
   "metadata": {},
   "outputs": [
    {
     "name": "stdout",
     "output_type": "stream",
     "text": [
      "[[ 1  2  3  4  5  6]\n",
      " [ 7  8  9 10 11 12]\n",
      " [13 14 15 16 17 18]\n",
      " [19 20 21 22 23 24]]\n",
      "\n",
      "\n",
      "[[17 18]\n",
      " [23 24]]\n"
     ]
    }
   ],
   "source": [
    "import numpy as np\n",
    "\n",
    "arr1=np.arange(1,25).reshape(4,6)\n",
    "print(arr1)\n",
    "print()\n",
    "print()\n",
    "\n",
    "print(arr1[ 2:4 , 4:6])\n"
   ]
  },
  {
   "cell_type": "markdown",
   "id": "6e0e0d32-ae33-4161-bcbe-c2bb366ebeab",
   "metadata": {},
   "source": [
    "# Iteration\n",
    "### row print one by one"
   ]
  },
  {
   "cell_type": "code",
   "execution_count": 8,
   "id": "c037a7ad-85b2-44d4-95a7-8578c08ae655",
   "metadata": {},
   "outputs": [
    {
     "name": "stdout",
     "output_type": "stream",
     "text": [
      "[[ 1  2  3  4  5  6]\n",
      " [ 7  8  9 10 11 12]\n",
      " [13 14 15 16 17 18]\n",
      " [19 20 21 22 23 24]]\n",
      "\n",
      "\n",
      "[1 2 3 4 5 6]\n",
      "[ 7  8  9 10 11 12]\n",
      "[13 14 15 16 17 18]\n",
      "[19 20 21 22 23 24]\n"
     ]
    }
   ],
   "source": [
    "import numpy as np\n",
    "\n",
    "arr1=np.arange(1,25).reshape(4,6)\n",
    "print(arr1)\n",
    "print()\n",
    "print()\n",
    "for i in arr1:\n",
    "    print(i)\n"
   ]
  },
  {
   "cell_type": "markdown",
   "id": "45579ad9-6c21-455c-9e5c-bac8307a8912",
   "metadata": {},
   "source": [
    "### all item print one by one "
   ]
  },
  {
   "cell_type": "code",
   "execution_count": 9,
   "id": "9c917584-b564-49de-9fb4-c1e1d788b518",
   "metadata": {},
   "outputs": [
    {
     "name": "stdout",
     "output_type": "stream",
     "text": [
      "[[ 1  2  3  4  5  6]\n",
      " [ 7  8  9 10 11 12]\n",
      " [13 14 15 16 17 18]\n",
      " [19 20 21 22 23 24]]\n",
      "\n",
      "\n",
      "1\n",
      "2\n",
      "3\n",
      "4\n",
      "5\n",
      "6\n",
      "7\n",
      "8\n",
      "9\n",
      "10\n",
      "11\n",
      "12\n",
      "13\n",
      "14\n",
      "15\n",
      "16\n",
      "17\n",
      "18\n",
      "19\n",
      "20\n",
      "21\n",
      "22\n",
      "23\n",
      "24\n"
     ]
    }
   ],
   "source": [
    "import numpy as np\n",
    "\n",
    "arr1=np.arange(1,25).reshape(4,6)\n",
    "print(arr1)\n",
    "print()\n",
    "print()\n",
    "for i in np.nditer(arr1):\n",
    "    print(i)\n"
   ]
  },
  {
   "cell_type": "code",
   "execution_count": null,
   "id": "9b057b29-a056-4443-b525-5a227bd5a187",
   "metadata": {},
   "outputs": [],
   "source": []
  }
 ],
 "metadata": {
  "kernelspec": {
   "display_name": "Python 3 (ipykernel)",
   "language": "python",
   "name": "python3"
  },
  "language_info": {
   "codemirror_mode": {
    "name": "ipython",
    "version": 3
   },
   "file_extension": ".py",
   "mimetype": "text/x-python",
   "name": "python",
   "nbconvert_exporter": "python",
   "pygments_lexer": "ipython3",
   "version": "3.12.7"
  }
 },
 "nbformat": 4,
 "nbformat_minor": 5
}
