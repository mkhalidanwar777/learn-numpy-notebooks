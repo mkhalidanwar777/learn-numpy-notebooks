{
 "cells": [
  {
   "cell_type": "markdown",
   "id": "27507597-d506-4d63-a84e-f04b21e5ed75",
   "metadata": {},
   "source": [
    "# 1 . Ravel\n",
    "### it convert all matrix in single dimension"
   ]
  },
  {
   "cell_type": "code",
   "execution_count": 1,
   "id": "6c0eaffd-18cc-4236-99f6-7db4e906b3d7",
   "metadata": {},
   "outputs": [
    {
     "name": "stdout",
     "output_type": "stream",
     "text": [
      "[[11 12 13 14 15]\n",
      " [16 17 18 19 20]]\n",
      "\n",
      "2\n",
      "Ravel\n",
      "[11 12 13 14 15 16 17 18 19 20]\n"
     ]
    }
   ],
   "source": [
    "import numpy as np\n",
    "\n",
    "arr2=np.arange(11,21).reshape(2,5)\n",
    "print(arr2)\n",
    "\n",
    "print()\n",
    "print(arr2.ndim)\n",
    "\n",
    "print(\"Ravel\")\n",
    "print(arr2.ravel())\n",
    "\n",
    "\n"
   ]
  },
  {
   "cell_type": "markdown",
   "id": "4cf70624-54e5-465a-8ddc-49a8fa34f9be",
   "metadata": {},
   "source": [
    "# 2. Reshape"
   ]
  },
  {
   "cell_type": "code",
   "execution_count": 2,
   "id": "1a106629-6e01-4f56-9e38-32f5173a3d95",
   "metadata": {},
   "outputs": [
    {
     "name": "stdout",
     "output_type": "stream",
     "text": [
      "[[11 12 13 14 15]\n",
      " [16 17 18 19 20]]\n",
      "\n"
     ]
    }
   ],
   "source": [
    "import numpy as np\n",
    "\n",
    "arr2=np.arange(11,21).reshape(2,5)\n",
    "print(arr2)\n",
    "\n",
    "print()\n",
    "\n"
   ]
  },
  {
   "cell_type": "markdown",
   "id": "ce018c62-53af-4ff5-ae9f-1704e3a032a4",
   "metadata": {},
   "source": [
    "# 3. Transpose"
   ]
  },
  {
   "cell_type": "code",
   "execution_count": 5,
   "id": "b9d58667-deb9-48b9-81f3-3b3b2acbb93d",
   "metadata": {},
   "outputs": [
    {
     "name": "stdout",
     "output_type": "stream",
     "text": [
      "[[11 12 13 14 15]\n",
      " [16 17 18 19 20]]\n",
      "\n",
      "[[11 16]\n",
      " [12 17]\n",
      " [13 18]\n",
      " [14 19]\n",
      " [15 20]]\n"
     ]
    }
   ],
   "source": [
    "import numpy as np\n",
    "\n",
    "arr2=np.arange(11,21).reshape(2,5)\n",
    "print(arr2)\n",
    "\n",
    "print()\n",
    "print(arr2.transpose())\n"
   ]
  },
  {
   "cell_type": "markdown",
   "id": "c19e1b6d-2dd9-412e-9262-46b17dda0b27",
   "metadata": {},
   "source": [
    "## 3.1 3D Transpose"
   ]
  },
  {
   "cell_type": "code",
   "execution_count": 6,
   "id": "eda25018-d0fb-4958-9742-0ae8d809362d",
   "metadata": {},
   "outputs": [
    {
     "name": "stdout",
     "output_type": "stream",
     "text": [
      "[[[1 2]\n",
      "  [3 4]]\n",
      "\n",
      " [[5 6]\n",
      "  [7 8]]]\n",
      "\n",
      "3D Transpose\n",
      "\n",
      "[[[1 5]\n",
      "  [3 7]]\n",
      "\n",
      " [[2 6]\n",
      "  [4 8]]]\n"
     ]
    }
   ],
   "source": [
    "import numpy as np\n",
    "\n",
    "arr2=np.array([[[1,2],[3,4]],[[5,6],[7,8]]])\n",
    "print(arr2)\n",
    "print()\n",
    "print(\"3D Transpose\")\n",
    "print()\n",
    "print(arr2.transpose())\n"
   ]
  },
  {
   "cell_type": "markdown",
   "id": "8795b158-2ad0-48bc-9fa3-337fccae6a8f",
   "metadata": {},
   "source": [
    "# 4. Stacking\n",
    "### combine two Array\n",
    "#\n",
    "#\n",
    "## hstack : Horizontal combine"
   ]
  },
  {
   "cell_type": "code",
   "execution_count": 7,
   "id": "8850ac1b-c7c8-4915-b8b8-2369788c1097",
   "metadata": {},
   "outputs": [
    {
     "name": "stdout",
     "output_type": "stream",
     "text": [
      "[[ 1  2  3  4  5]\n",
      " [ 6  7  8  9 10]]\n",
      "\n",
      "[[11 12 13 14 15]\n",
      " [16 17 18 19 20]]\n",
      "\n",
      "[[ 1  2  3  4  5 11 12 13 14 15]\n",
      " [ 6  7  8  9 10 16 17 18 19 20]]\n"
     ]
    }
   ],
   "source": [
    "import numpy as np\n",
    "arr1=np.arange(1,11).reshape(2,5)\n",
    "arr2=np.arange(11,21).reshape(2,5)\n",
    "print(arr1)\n",
    "print()\n",
    "print(arr2)\n",
    "\n",
    "print()\n",
    "print(np.hstack((arr1,arr2)))\n"
   ]
  },
  {
   "cell_type": "markdown",
   "id": "129c793b-75b9-4191-9091-af874a05722d",
   "metadata": {},
   "source": [
    "## vstack : Vertical combine"
   ]
  },
  {
   "cell_type": "code",
   "execution_count": 8,
   "id": "8a11255d-fb70-402d-a2bb-78bc9c6e5ec1",
   "metadata": {},
   "outputs": [
    {
     "name": "stdout",
     "output_type": "stream",
     "text": [
      "[[ 1  2  3  4  5]\n",
      " [ 6  7  8  9 10]]\n",
      "\n",
      "[[11 12 13 14 15]\n",
      " [16 17 18 19 20]]\n",
      "\n",
      "[[ 1  2  3  4  5]\n",
      " [ 6  7  8  9 10]\n",
      " [11 12 13 14 15]\n",
      " [16 17 18 19 20]]\n"
     ]
    }
   ],
   "source": [
    "import numpy as np\n",
    "arr1=np.arange(1,11).reshape(2,5)\n",
    "arr2=np.arange(11,21).reshape(2,5)\n",
    "print(arr1)\n",
    "print()\n",
    "print(arr2)\n",
    "\n",
    "print()\n",
    "print(np.vstack((arr1,arr2)))\n"
   ]
  },
  {
   "cell_type": "markdown",
   "id": "717c1c2f-8d37-46b0-bd9c-117831307238",
   "metadata": {},
   "source": [
    "# 5. Splitting"
   ]
  },
  {
   "cell_type": "markdown",
   "id": "7e95b7c8-956e-4f3c-97ec-c60c4d7c7cc7",
   "metadata": {},
   "source": [
    "## vsplit "
   ]
  },
  {
   "cell_type": "code",
   "execution_count": 10,
   "id": "39e3a8e7-589c-45da-bef7-aea7aa70bd88",
   "metadata": {},
   "outputs": [
    {
     "name": "stdout",
     "output_type": "stream",
     "text": [
      "[[ 1  2  3  4  5]\n",
      " [ 6  7  8  9 10]]\n",
      "\n",
      "\n",
      "[array([[1, 2, 3, 4, 5]]), array([[ 6,  7,  8,  9, 10]])]\n"
     ]
    }
   ],
   "source": [
    "import numpy as np\n",
    "arr1=np.arange(1,11).reshape(2,5)\n",
    "\n",
    "print(arr1)\n",
    "print()\n",
    "print()\n",
    "print(np.vsplit(arr1,2))\n"
   ]
  },
  {
   "cell_type": "markdown",
   "id": "64dd44a1-68f9-4887-aa29-484d4bb07541",
   "metadata": {},
   "source": [
    "## hsplit"
   ]
  },
  {
   "cell_type": "code",
   "execution_count": 11,
   "id": "17b72815-cb68-4b20-8bae-063e276e7f69",
   "metadata": {},
   "outputs": [
    {
     "name": "stdout",
     "output_type": "stream",
     "text": [
      "[[ 1  2  3  4]\n",
      " [ 5  6  7  8]\n",
      " [ 9 10 11 12]\n",
      " [13 14 15 16]\n",
      " [17 18 19 20]\n",
      " [21 22 23 24]]\n",
      "\n",
      "\n",
      "[array([[ 1,  2],\n",
      "       [ 5,  6],\n",
      "       [ 9, 10],\n",
      "       [13, 14],\n",
      "       [17, 18],\n",
      "       [21, 22]]), array([[ 3,  4],\n",
      "       [ 7,  8],\n",
      "       [11, 12],\n",
      "       [15, 16],\n",
      "       [19, 20],\n",
      "       [23, 24]])]\n"
     ]
    }
   ],
   "source": [
    "import numpy as np\n",
    "arr1=np.arange(1,25).reshape(6,4)\n",
    "\n",
    "print(arr1)\n",
    "print()\n",
    "print()\n",
    "print(np.hsplit(arr1,2))\n"
   ]
  },
  {
   "cell_type": "code",
   "execution_count": null,
   "id": "70debd58-f33a-4ff2-843d-c8c4b8b024d4",
   "metadata": {},
   "outputs": [],
   "source": []
  }
 ],
 "metadata": {
  "kernelspec": {
   "display_name": "Python 3 (ipykernel)",
   "language": "python",
   "name": "python3"
  },
  "language_info": {
   "codemirror_mode": {
    "name": "ipython",
    "version": 3
   },
   "file_extension": ".py",
   "mimetype": "text/x-python",
   "name": "python",
   "nbconvert_exporter": "python",
   "pygments_lexer": "ipython3",
   "version": "3.12.7"
  }
 },
 "nbformat": 4,
 "nbformat_minor": 5
}
