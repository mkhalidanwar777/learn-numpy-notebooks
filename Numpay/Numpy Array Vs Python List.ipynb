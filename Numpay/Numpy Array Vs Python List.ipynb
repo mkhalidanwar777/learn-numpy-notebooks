{
 "cells": [
  {
   "cell_type": "markdown",
   "id": "fe06d8fe-4568-4f0a-b0c0-cc75e9bb777d",
   "metadata": {},
   "source": [
    "# Numpy Array Vs Python List\n",
    "## Numpy is fater \n",
    "## Numpy is take less Memory"
   ]
  },
  {
   "cell_type": "markdown",
   "id": "1c9d7550-57e4-4892-9458-3a254e782a0e",
   "metadata": {},
   "source": [
    "### Now we proof 1st  point\n",
    "\n",
    "####\n",
    "###\n",
    "\n",
    "### same problem solve in both 1st in python then numpy \n"
   ]
  },
  {
   "cell_type": "code",
   "execution_count": null,
   "id": "9523ba1e-0175-41f0-8100-6d587a966bdb",
   "metadata": {},
   "outputs": [],
   "source": [
    "import numpy as np\n",
    "import time\n",
    "\n",
    "x=range(1000000)\n",
    "y=range(1000000,2000000)\n",
    "\n",
    "start_time=time.time()\n",
    "\n",
    "c = [ (x,y) for x,y in zip(x,y)]\n",
    "\n",
    "print(time.time()-start_time)\n",
    "\n",
    "print(\"hi\")"
   ]
  },
  {
   "cell_type": "markdown",
   "id": "669d6b6b-da7d-4639-b769-e151138e1666",
   "metadata": {},
   "source": [
    "### now this question solve in Numpy "
   ]
  },
  {
   "cell_type": "code",
   "execution_count": 2,
   "id": "a623632e-0ff0-415e-8d33-7edcd998d885",
   "metadata": {},
   "outputs": [
    {
     "name": "stdout",
     "output_type": "stream",
     "text": [
      "0.016607999801635742\n",
      "hi\n"
     ]
    }
   ],
   "source": [
    "import numpy as np\n",
    "import time\n",
    "\n",
    "x=np.arange(1000000)\n",
    "y=np.arange(1000000,2000000)\n",
    "\n",
    "start_time=time.time()\n",
    "c = x+y\n",
    "\n",
    "print(time.time()-start_time)\n",
    "\n",
    "print(\"hi\")"
   ]
  },
  {
   "cell_type": "markdown",
   "id": "df42ce5f-fa46-4279-ac2a-157df769aa17",
   "metadata": {},
   "source": [
    "## 2nd point less memory\n"
   ]
  },
  {
   "cell_type": "code",
   "execution_count": 3,
   "id": "0c3e7dd0-0573-4ee6-8b9c-fe466f17eda7",
   "metadata": {},
   "outputs": [
    {
     "name": "stdout",
     "output_type": "stream",
     "text": [
      "python list size = 28000\n",
      "\n",
      "\n",
      "Numpy size =  4000\n"
     ]
    }
   ],
   "source": [
    "import numpy as np\n",
    "\n",
    "\n",
    "x=range(1000)\n",
    "y=np.arange(1000)\n",
    "\n",
    "import sys\n",
    "print(f\"python list size = {sys.getsizeof(60)*len(x)}\")\n",
    "\n",
    "print()\n",
    "print()\n",
    "\n",
    "print(f\"Numpy size =  { y.itemsize * y.size }\")\n",
    "\n"
   ]
  },
  {
   "cell_type": "code",
   "execution_count": null,
   "id": "00c42b86-552d-4785-bec9-2e3e35364804",
   "metadata": {},
   "outputs": [],
   "source": []
  }
 ],
 "metadata": {
  "kernelspec": {
   "display_name": "Python 3 (ipykernel)",
   "language": "python",
   "name": "python3"
  },
  "language_info": {
   "codemirror_mode": {
    "name": "ipython",
    "version": 3
   },
   "file_extension": ".py",
   "mimetype": "text/x-python",
   "name": "python",
   "nbconvert_exporter": "python",
   "pygments_lexer": "ipython3",
   "version": "3.12.7"
  }
 },
 "nbformat": 4,
 "nbformat_minor": 5
}
